{
  "nbformat": 4,
  "nbformat_minor": 0,
  "metadata": {
    "colab": {
      "provenance": [],
      "authorship_tag": "ABX9TyPNGYQsMUXoL8G/XG74K8aB",
      "include_colab_link": true
    },
    "kernelspec": {
      "name": "python3",
      "display_name": "Python 3"
    },
    "language_info": {
      "name": "python"
    }
  },
  "cells": [
    {
      "cell_type": "markdown",
      "metadata": {
        "id": "view-in-github",
        "colab_type": "text"
      },
      "source": [
        "<a href=\"https://colab.research.google.com/github/Bhavana0929/CNN_from_scratch/blob/main/CNN_from_scratch_experimental.ipynb\" target=\"_parent\"><img src=\"https://colab.research.google.com/assets/colab-badge.svg\" alt=\"Open In Colab\"/></a>"
      ]
    },
    {
      "cell_type": "code",
      "execution_count": 1,
      "metadata": {
        "id": "9nmvYy5LGycO"
      },
      "outputs": [],
      "source": [
        "import pandas as pd\n",
        "import numpy as np\n",
        "data = pd.read_csv(\"https://raw.githubusercontent.com/VikasSingh-DS/Kannada-MNIST/refs/heads/master/train.csv\")"
      ]
    },
    {
      "cell_type": "code",
      "source": [
        "# Shuffling data set\n",
        "data = data.sample(frac=1)\n",
        "print(int(data.shape[0]/2))"
      ],
      "metadata": {
        "colab": {
          "base_uri": "https://localhost:8080/"
        },
        "id": "oNmUsWtnqOAv",
        "outputId": "aac1ec1c-e8cc-4cd8-aae1-05b357f7b498"
      },
      "execution_count": 5,
      "outputs": [
        {
          "output_type": "stream",
          "name": "stdout",
          "text": [
            "30000\n"
          ]
        }
      ]
    },
    {
      "cell_type": "code",
      "source": [
        "data.shape"
      ],
      "metadata": {
        "colab": {
          "base_uri": "https://localhost:8080/"
        },
        "id": "qTFAsariLV7k",
        "outputId": "3c77e2a2-fc58-4d4d-928e-e74625442294"
      },
      "execution_count": 6,
      "outputs": [
        {
          "output_type": "execute_result",
          "data": {
            "text/plain": [
              "(60000, 785)"
            ]
          },
          "metadata": {},
          "execution_count": 6
        }
      ]
    },
    {
      "cell_type": "code",
      "source": [
        "data_first_half = data.head(30000)\n",
        "data_second_half = data.tail(30000)"
      ],
      "metadata": {
        "id": "1Q_uXX8iqna-"
      },
      "execution_count": 3,
      "outputs": []
    },
    {
      "cell_type": "code",
      "source": [
        "data_first_half.head()"
      ],
      "metadata": {
        "colab": {
          "base_uri": "https://localhost:8080/",
          "height": 255
        },
        "id": "w-j8pSLhsNaf",
        "outputId": "2fb92670-9d84-492c-dc32-391c8275a3bb"
      },
      "execution_count": null,
      "outputs": [
        {
          "output_type": "execute_result",
          "data": {
            "text/plain": [
              "       label  pixel0  pixel1  pixel2  pixel3  pixel4  pixel5  pixel6  pixel7  \\\n",
              "15816      6       0       0       0       0       0       0       0       0   \n",
              "205        5       0       0       0       0       0       0       0       0   \n",
              "51662      2       0       0       0       0       0       0       0       0   \n",
              "30424      4       0       0       0       0       0       0       0       0   \n",
              "59097      7       0       0       0       0       0       0       0       0   \n",
              "\n",
              "       pixel8  ...  pixel774  pixel775  pixel776  pixel777  pixel778  \\\n",
              "15816       0  ...         0         0         0         0         0   \n",
              "205         0  ...         0         0         0         0         0   \n",
              "51662       0  ...         0         0         0         0         0   \n",
              "30424       0  ...         0         0         0         0         0   \n",
              "59097       0  ...         0         0         0         0         0   \n",
              "\n",
              "       pixel779  pixel780  pixel781  pixel782  pixel783  \n",
              "15816         0         0         0         0         0  \n",
              "205           0         0         0         0         0  \n",
              "51662         0         0         0         0         0  \n",
              "30424         0         0         0         0         0  \n",
              "59097         0         0         0         0         0  \n",
              "\n",
              "[5 rows x 785 columns]"
            ],
            "text/html": [
              "\n",
              "  <div id=\"df-3362e5b3-5f56-4086-9dc0-ecf135894585\" class=\"colab-df-container\">\n",
              "    <div>\n",
              "<style scoped>\n",
              "    .dataframe tbody tr th:only-of-type {\n",
              "        vertical-align: middle;\n",
              "    }\n",
              "\n",
              "    .dataframe tbody tr th {\n",
              "        vertical-align: top;\n",
              "    }\n",
              "\n",
              "    .dataframe thead th {\n",
              "        text-align: right;\n",
              "    }\n",
              "</style>\n",
              "<table border=\"1\" class=\"dataframe\">\n",
              "  <thead>\n",
              "    <tr style=\"text-align: right;\">\n",
              "      <th></th>\n",
              "      <th>label</th>\n",
              "      <th>pixel0</th>\n",
              "      <th>pixel1</th>\n",
              "      <th>pixel2</th>\n",
              "      <th>pixel3</th>\n",
              "      <th>pixel4</th>\n",
              "      <th>pixel5</th>\n",
              "      <th>pixel6</th>\n",
              "      <th>pixel7</th>\n",
              "      <th>pixel8</th>\n",
              "      <th>...</th>\n",
              "      <th>pixel774</th>\n",
              "      <th>pixel775</th>\n",
              "      <th>pixel776</th>\n",
              "      <th>pixel777</th>\n",
              "      <th>pixel778</th>\n",
              "      <th>pixel779</th>\n",
              "      <th>pixel780</th>\n",
              "      <th>pixel781</th>\n",
              "      <th>pixel782</th>\n",
              "      <th>pixel783</th>\n",
              "    </tr>\n",
              "  </thead>\n",
              "  <tbody>\n",
              "    <tr>\n",
              "      <th>15816</th>\n",
              "      <td>6</td>\n",
              "      <td>0</td>\n",
              "      <td>0</td>\n",
              "      <td>0</td>\n",
              "      <td>0</td>\n",
              "      <td>0</td>\n",
              "      <td>0</td>\n",
              "      <td>0</td>\n",
              "      <td>0</td>\n",
              "      <td>0</td>\n",
              "      <td>...</td>\n",
              "      <td>0</td>\n",
              "      <td>0</td>\n",
              "      <td>0</td>\n",
              "      <td>0</td>\n",
              "      <td>0</td>\n",
              "      <td>0</td>\n",
              "      <td>0</td>\n",
              "      <td>0</td>\n",
              "      <td>0</td>\n",
              "      <td>0</td>\n",
              "    </tr>\n",
              "    <tr>\n",
              "      <th>205</th>\n",
              "      <td>5</td>\n",
              "      <td>0</td>\n",
              "      <td>0</td>\n",
              "      <td>0</td>\n",
              "      <td>0</td>\n",
              "      <td>0</td>\n",
              "      <td>0</td>\n",
              "      <td>0</td>\n",
              "      <td>0</td>\n",
              "      <td>0</td>\n",
              "      <td>...</td>\n",
              "      <td>0</td>\n",
              "      <td>0</td>\n",
              "      <td>0</td>\n",
              "      <td>0</td>\n",
              "      <td>0</td>\n",
              "      <td>0</td>\n",
              "      <td>0</td>\n",
              "      <td>0</td>\n",
              "      <td>0</td>\n",
              "      <td>0</td>\n",
              "    </tr>\n",
              "    <tr>\n",
              "      <th>51662</th>\n",
              "      <td>2</td>\n",
              "      <td>0</td>\n",
              "      <td>0</td>\n",
              "      <td>0</td>\n",
              "      <td>0</td>\n",
              "      <td>0</td>\n",
              "      <td>0</td>\n",
              "      <td>0</td>\n",
              "      <td>0</td>\n",
              "      <td>0</td>\n",
              "      <td>...</td>\n",
              "      <td>0</td>\n",
              "      <td>0</td>\n",
              "      <td>0</td>\n",
              "      <td>0</td>\n",
              "      <td>0</td>\n",
              "      <td>0</td>\n",
              "      <td>0</td>\n",
              "      <td>0</td>\n",
              "      <td>0</td>\n",
              "      <td>0</td>\n",
              "    </tr>\n",
              "    <tr>\n",
              "      <th>30424</th>\n",
              "      <td>4</td>\n",
              "      <td>0</td>\n",
              "      <td>0</td>\n",
              "      <td>0</td>\n",
              "      <td>0</td>\n",
              "      <td>0</td>\n",
              "      <td>0</td>\n",
              "      <td>0</td>\n",
              "      <td>0</td>\n",
              "      <td>0</td>\n",
              "      <td>...</td>\n",
              "      <td>0</td>\n",
              "      <td>0</td>\n",
              "      <td>0</td>\n",
              "      <td>0</td>\n",
              "      <td>0</td>\n",
              "      <td>0</td>\n",
              "      <td>0</td>\n",
              "      <td>0</td>\n",
              "      <td>0</td>\n",
              "      <td>0</td>\n",
              "    </tr>\n",
              "    <tr>\n",
              "      <th>59097</th>\n",
              "      <td>7</td>\n",
              "      <td>0</td>\n",
              "      <td>0</td>\n",
              "      <td>0</td>\n",
              "      <td>0</td>\n",
              "      <td>0</td>\n",
              "      <td>0</td>\n",
              "      <td>0</td>\n",
              "      <td>0</td>\n",
              "      <td>0</td>\n",
              "      <td>...</td>\n",
              "      <td>0</td>\n",
              "      <td>0</td>\n",
              "      <td>0</td>\n",
              "      <td>0</td>\n",
              "      <td>0</td>\n",
              "      <td>0</td>\n",
              "      <td>0</td>\n",
              "      <td>0</td>\n",
              "      <td>0</td>\n",
              "      <td>0</td>\n",
              "    </tr>\n",
              "  </tbody>\n",
              "</table>\n",
              "<p>5 rows × 785 columns</p>\n",
              "</div>\n",
              "    <div class=\"colab-df-buttons\">\n",
              "\n",
              "  <div class=\"colab-df-container\">\n",
              "    <button class=\"colab-df-convert\" onclick=\"convertToInteractive('df-3362e5b3-5f56-4086-9dc0-ecf135894585')\"\n",
              "            title=\"Convert this dataframe to an interactive table.\"\n",
              "            style=\"display:none;\">\n",
              "\n",
              "  <svg xmlns=\"http://www.w3.org/2000/svg\" height=\"24px\" viewBox=\"0 -960 960 960\">\n",
              "    <path d=\"M120-120v-720h720v720H120Zm60-500h600v-160H180v160Zm220 220h160v-160H400v160Zm0 220h160v-160H400v160ZM180-400h160v-160H180v160Zm440 0h160v-160H620v160ZM180-180h160v-160H180v160Zm440 0h160v-160H620v160Z\"/>\n",
              "  </svg>\n",
              "    </button>\n",
              "\n",
              "  <style>\n",
              "    .colab-df-container {\n",
              "      display:flex;\n",
              "      gap: 12px;\n",
              "    }\n",
              "\n",
              "    .colab-df-convert {\n",
              "      background-color: #E8F0FE;\n",
              "      border: none;\n",
              "      border-radius: 50%;\n",
              "      cursor: pointer;\n",
              "      display: none;\n",
              "      fill: #1967D2;\n",
              "      height: 32px;\n",
              "      padding: 0 0 0 0;\n",
              "      width: 32px;\n",
              "    }\n",
              "\n",
              "    .colab-df-convert:hover {\n",
              "      background-color: #E2EBFA;\n",
              "      box-shadow: 0px 1px 2px rgba(60, 64, 67, 0.3), 0px 1px 3px 1px rgba(60, 64, 67, 0.15);\n",
              "      fill: #174EA6;\n",
              "    }\n",
              "\n",
              "    .colab-df-buttons div {\n",
              "      margin-bottom: 4px;\n",
              "    }\n",
              "\n",
              "    [theme=dark] .colab-df-convert {\n",
              "      background-color: #3B4455;\n",
              "      fill: #D2E3FC;\n",
              "    }\n",
              "\n",
              "    [theme=dark] .colab-df-convert:hover {\n",
              "      background-color: #434B5C;\n",
              "      box-shadow: 0px 1px 3px 1px rgba(0, 0, 0, 0.15);\n",
              "      filter: drop-shadow(0px 1px 2px rgba(0, 0, 0, 0.3));\n",
              "      fill: #FFFFFF;\n",
              "    }\n",
              "  </style>\n",
              "\n",
              "    <script>\n",
              "      const buttonEl =\n",
              "        document.querySelector('#df-3362e5b3-5f56-4086-9dc0-ecf135894585 button.colab-df-convert');\n",
              "      buttonEl.style.display =\n",
              "        google.colab.kernel.accessAllowed ? 'block' : 'none';\n",
              "\n",
              "      async function convertToInteractive(key) {\n",
              "        const element = document.querySelector('#df-3362e5b3-5f56-4086-9dc0-ecf135894585');\n",
              "        const dataTable =\n",
              "          await google.colab.kernel.invokeFunction('convertToInteractive',\n",
              "                                                    [key], {});\n",
              "        if (!dataTable) return;\n",
              "\n",
              "        const docLinkHtml = 'Like what you see? Visit the ' +\n",
              "          '<a target=\"_blank\" href=https://colab.research.google.com/notebooks/data_table.ipynb>data table notebook</a>'\n",
              "          + ' to learn more about interactive tables.';\n",
              "        element.innerHTML = '';\n",
              "        dataTable['output_type'] = 'display_data';\n",
              "        await google.colab.output.renderOutput(dataTable, element);\n",
              "        const docLink = document.createElement('div');\n",
              "        docLink.innerHTML = docLinkHtml;\n",
              "        element.appendChild(docLink);\n",
              "      }\n",
              "    </script>\n",
              "  </div>\n",
              "\n",
              "\n",
              "<div id=\"df-2a52c6bf-ccce-44ff-b7ef-5f52a8b34c3e\">\n",
              "  <button class=\"colab-df-quickchart\" onclick=\"quickchart('df-2a52c6bf-ccce-44ff-b7ef-5f52a8b34c3e')\"\n",
              "            title=\"Suggest charts\"\n",
              "            style=\"display:none;\">\n",
              "\n",
              "<svg xmlns=\"http://www.w3.org/2000/svg\" height=\"24px\"viewBox=\"0 0 24 24\"\n",
              "     width=\"24px\">\n",
              "    <g>\n",
              "        <path d=\"M19 3H5c-1.1 0-2 .9-2 2v14c0 1.1.9 2 2 2h14c1.1 0 2-.9 2-2V5c0-1.1-.9-2-2-2zM9 17H7v-7h2v7zm4 0h-2V7h2v10zm4 0h-2v-4h2v4z\"/>\n",
              "    </g>\n",
              "</svg>\n",
              "  </button>\n",
              "\n",
              "<style>\n",
              "  .colab-df-quickchart {\n",
              "      --bg-color: #E8F0FE;\n",
              "      --fill-color: #1967D2;\n",
              "      --hover-bg-color: #E2EBFA;\n",
              "      --hover-fill-color: #174EA6;\n",
              "      --disabled-fill-color: #AAA;\n",
              "      --disabled-bg-color: #DDD;\n",
              "  }\n",
              "\n",
              "  [theme=dark] .colab-df-quickchart {\n",
              "      --bg-color: #3B4455;\n",
              "      --fill-color: #D2E3FC;\n",
              "      --hover-bg-color: #434B5C;\n",
              "      --hover-fill-color: #FFFFFF;\n",
              "      --disabled-bg-color: #3B4455;\n",
              "      --disabled-fill-color: #666;\n",
              "  }\n",
              "\n",
              "  .colab-df-quickchart {\n",
              "    background-color: var(--bg-color);\n",
              "    border: none;\n",
              "    border-radius: 50%;\n",
              "    cursor: pointer;\n",
              "    display: none;\n",
              "    fill: var(--fill-color);\n",
              "    height: 32px;\n",
              "    padding: 0;\n",
              "    width: 32px;\n",
              "  }\n",
              "\n",
              "  .colab-df-quickchart:hover {\n",
              "    background-color: var(--hover-bg-color);\n",
              "    box-shadow: 0 1px 2px rgba(60, 64, 67, 0.3), 0 1px 3px 1px rgba(60, 64, 67, 0.15);\n",
              "    fill: var(--button-hover-fill-color);\n",
              "  }\n",
              "\n",
              "  .colab-df-quickchart-complete:disabled,\n",
              "  .colab-df-quickchart-complete:disabled:hover {\n",
              "    background-color: var(--disabled-bg-color);\n",
              "    fill: var(--disabled-fill-color);\n",
              "    box-shadow: none;\n",
              "  }\n",
              "\n",
              "  .colab-df-spinner {\n",
              "    border: 2px solid var(--fill-color);\n",
              "    border-color: transparent;\n",
              "    border-bottom-color: var(--fill-color);\n",
              "    animation:\n",
              "      spin 1s steps(1) infinite;\n",
              "  }\n",
              "\n",
              "  @keyframes spin {\n",
              "    0% {\n",
              "      border-color: transparent;\n",
              "      border-bottom-color: var(--fill-color);\n",
              "      border-left-color: var(--fill-color);\n",
              "    }\n",
              "    20% {\n",
              "      border-color: transparent;\n",
              "      border-left-color: var(--fill-color);\n",
              "      border-top-color: var(--fill-color);\n",
              "    }\n",
              "    30% {\n",
              "      border-color: transparent;\n",
              "      border-left-color: var(--fill-color);\n",
              "      border-top-color: var(--fill-color);\n",
              "      border-right-color: var(--fill-color);\n",
              "    }\n",
              "    40% {\n",
              "      border-color: transparent;\n",
              "      border-right-color: var(--fill-color);\n",
              "      border-top-color: var(--fill-color);\n",
              "    }\n",
              "    60% {\n",
              "      border-color: transparent;\n",
              "      border-right-color: var(--fill-color);\n",
              "    }\n",
              "    80% {\n",
              "      border-color: transparent;\n",
              "      border-right-color: var(--fill-color);\n",
              "      border-bottom-color: var(--fill-color);\n",
              "    }\n",
              "    90% {\n",
              "      border-color: transparent;\n",
              "      border-bottom-color: var(--fill-color);\n",
              "    }\n",
              "  }\n",
              "</style>\n",
              "\n",
              "  <script>\n",
              "    async function quickchart(key) {\n",
              "      const quickchartButtonEl =\n",
              "        document.querySelector('#' + key + ' button');\n",
              "      quickchartButtonEl.disabled = true;  // To prevent multiple clicks.\n",
              "      quickchartButtonEl.classList.add('colab-df-spinner');\n",
              "      try {\n",
              "        const charts = await google.colab.kernel.invokeFunction(\n",
              "            'suggestCharts', [key], {});\n",
              "      } catch (error) {\n",
              "        console.error('Error during call to suggestCharts:', error);\n",
              "      }\n",
              "      quickchartButtonEl.classList.remove('colab-df-spinner');\n",
              "      quickchartButtonEl.classList.add('colab-df-quickchart-complete');\n",
              "    }\n",
              "    (() => {\n",
              "      let quickchartButtonEl =\n",
              "        document.querySelector('#df-2a52c6bf-ccce-44ff-b7ef-5f52a8b34c3e button');\n",
              "      quickchartButtonEl.style.display =\n",
              "        google.colab.kernel.accessAllowed ? 'block' : 'none';\n",
              "    })();\n",
              "  </script>\n",
              "</div>\n",
              "\n",
              "    </div>\n",
              "  </div>\n"
            ],
            "application/vnd.google.colaboratory.intrinsic+json": {
              "type": "dataframe",
              "variable_name": "data_first_half"
            }
          },
          "metadata": {},
          "execution_count": 4
        }
      ]
    },
    {
      "cell_type": "code",
      "source": [
        "data_first_half[\"label\"].value_counts()"
      ],
      "metadata": {
        "colab": {
          "base_uri": "https://localhost:8080/",
          "height": 429
        },
        "id": "O2_3eGVaMkf3",
        "outputId": "90d69aae-9b86-4a78-9e55-494295b1ef1c"
      },
      "execution_count": 7,
      "outputs": [
        {
          "output_type": "execute_result",
          "data": {
            "text/plain": [
              "label\n",
              "6    3059\n",
              "0    3031\n",
              "1    3012\n",
              "8    3007\n",
              "5    3006\n",
              "2    2992\n",
              "7    2992\n",
              "9    2987\n",
              "3    2986\n",
              "4    2928\n",
              "Name: count, dtype: int64"
            ],
            "text/html": [
              "<div>\n",
              "<style scoped>\n",
              "    .dataframe tbody tr th:only-of-type {\n",
              "        vertical-align: middle;\n",
              "    }\n",
              "\n",
              "    .dataframe tbody tr th {\n",
              "        vertical-align: top;\n",
              "    }\n",
              "\n",
              "    .dataframe thead th {\n",
              "        text-align: right;\n",
              "    }\n",
              "</style>\n",
              "<table border=\"1\" class=\"dataframe\">\n",
              "  <thead>\n",
              "    <tr style=\"text-align: right;\">\n",
              "      <th></th>\n",
              "      <th>count</th>\n",
              "    </tr>\n",
              "    <tr>\n",
              "      <th>label</th>\n",
              "      <th></th>\n",
              "    </tr>\n",
              "  </thead>\n",
              "  <tbody>\n",
              "    <tr>\n",
              "      <th>6</th>\n",
              "      <td>3059</td>\n",
              "    </tr>\n",
              "    <tr>\n",
              "      <th>0</th>\n",
              "      <td>3031</td>\n",
              "    </tr>\n",
              "    <tr>\n",
              "      <th>1</th>\n",
              "      <td>3012</td>\n",
              "    </tr>\n",
              "    <tr>\n",
              "      <th>8</th>\n",
              "      <td>3007</td>\n",
              "    </tr>\n",
              "    <tr>\n",
              "      <th>5</th>\n",
              "      <td>3006</td>\n",
              "    </tr>\n",
              "    <tr>\n",
              "      <th>2</th>\n",
              "      <td>2992</td>\n",
              "    </tr>\n",
              "    <tr>\n",
              "      <th>7</th>\n",
              "      <td>2992</td>\n",
              "    </tr>\n",
              "    <tr>\n",
              "      <th>9</th>\n",
              "      <td>2987</td>\n",
              "    </tr>\n",
              "    <tr>\n",
              "      <th>3</th>\n",
              "      <td>2986</td>\n",
              "    </tr>\n",
              "    <tr>\n",
              "      <th>4</th>\n",
              "      <td>2928</td>\n",
              "    </tr>\n",
              "  </tbody>\n",
              "</table>\n",
              "</div><br><label><b>dtype:</b> int64</label>"
            ]
          },
          "metadata": {},
          "execution_count": 7
        }
      ]
    },
    {
      "cell_type": "code",
      "source": [
        "# Get 100 data points\n",
        "# Making sure that the data is balanced\n",
        "\n",
        "tmp = []  # Initialize tmp as a list\n",
        "for label in range(10):\n",
        "  temp = data_first_half[data_first_half[\"label\"]==label].head(600)\n",
        "  tmp.append(temp) # Append each DataFrame to the list\n",
        "data_balanced = pd.concat(tmp) # Concatenate all DataFrames in the list\n",
        "\n",
        "tmp = []  # Initialize tmp as a list\n",
        "for label in range(10):\n",
        "  temp = data_second_half[data_second_half[\"label\"]==label].head(100)\n",
        "  tmp.append(temp) # Append each DataFrame to the list\n",
        "data_test = pd.concat(tmp) # Concatenate all DataFrames in the list\n",
        "\n",
        "print(data_test.shape)\n",
        "print(data_balanced.shape)"
      ],
      "metadata": {
        "colab": {
          "base_uri": "https://localhost:8080/"
        },
        "id": "AtCPo1-GrJ0D",
        "outputId": "5d4f0131-18e1-4898-db28-2f2a6df39cc6"
      },
      "execution_count": 9,
      "outputs": [
        {
          "output_type": "stream",
          "name": "stdout",
          "text": [
            "(1000, 785)\n",
            "(6000, 785)\n"
          ]
        }
      ]
    },
    {
      "cell_type": "code",
      "source": [
        "# Convert flattened input train data to image data\n",
        "data_balanced = data_balanced.sample(frac=1)\n",
        "data_array = np.zeros((data_balanced.shape[0],1,28,28))\n",
        "image_data = np.array(data_balanced.drop('label',axis=1))\n",
        "\n",
        "for i in range(data_balanced.shape[0]):\n",
        "    single_image = image_data[i,:].reshape(1,-1)\n",
        "    single_image = single_image.reshape(-1,28)\n",
        "    data_array[i,0,:,:] = single_image\n",
        "\n",
        "data_array = data_array/255."
      ],
      "metadata": {
        "id": "rObrEutKpLda"
      },
      "execution_count": 10,
      "outputs": []
    },
    {
      "cell_type": "code",
      "source": [
        "data_array.shape"
      ],
      "metadata": {
        "colab": {
          "base_uri": "https://localhost:8080/"
        },
        "id": "s3bI1WCe5eTM",
        "outputId": "c1a9631d-3f62-472e-e9f1-3439cb7478af"
      },
      "execution_count": 43,
      "outputs": [
        {
          "output_type": "execute_result",
          "data": {
            "text/plain": [
              "(6000, 1, 28, 28)"
            ]
          },
          "metadata": {},
          "execution_count": 43
        }
      ]
    },
    {
      "cell_type": "code",
      "source": [
        "### Convert flattened input test data to image data\n",
        "data_test = data_test.sample(frac=1)\n",
        "data_test_input = np.zeros((data_test.shape[0],1,28,28))\n",
        "image_data = np.array(data_test.drop('label',axis=1))\n",
        "\n",
        "for i in range(data_test.shape[0]):\n",
        "    single_image = image_data[i,:].reshape(1,-1)\n",
        "    single_image = single_image.reshape(-1,28)\n",
        "    data_test_input[i,0,:,:] = single_image\n",
        "data_test_input = data_test_input/255."
      ],
      "metadata": {
        "id": "_tFiekatrog5"
      },
      "execution_count": 24,
      "outputs": []
    },
    {
      "cell_type": "code",
      "source": [
        "### Convert Labels to one hot encoding\n",
        "\n",
        "label = data_balanced['label'].tolist()\n",
        "one_hot_encoding = np.zeros((data_balanced.shape[0],10))\n",
        "for i in range(data_balanced.shape[0]):\n",
        "    position = label[i]\n",
        "    one_hot_encoding[i,position] = 1"
      ],
      "metadata": {
        "id": "OPcCL6S7rvSF"
      },
      "execution_count": 26,
      "outputs": []
    },
    {
      "cell_type": "code",
      "source": [
        "one_hot_encoding[1]"
      ],
      "metadata": {
        "colab": {
          "base_uri": "https://localhost:8080/"
        },
        "id": "odA_SIf8Teir",
        "outputId": "a03efff0-505e-4960-8894-bbf793dae0c8"
      },
      "execution_count": 29,
      "outputs": [
        {
          "output_type": "execute_result",
          "data": {
            "text/plain": [
              "array([0., 1., 0., 0., 0., 0., 0., 0., 0., 0.])"
            ]
          },
          "metadata": {},
          "execution_count": 29
        }
      ]
    },
    {
      "cell_type": "code",
      "source": [
        "import matplotlib.pyplot as plt\n",
        "\n",
        "for i in range(10):\n",
        "    plt.imshow(data_array[i,0,:,:])\n",
        "    plt.pause(0.5)"
      ],
      "metadata": {
        "colab": {
          "base_uri": "https://localhost:8080/",
          "height": 1000
        },
        "id": "ILkymBkltf9Y",
        "outputId": "3efe2e06-a0d7-489c-a58e-bf88c30244da"
      },
      "execution_count": 32,
      "outputs": [
        {
          "output_type": "display_data",
          "data": {
            "text/plain": [
              "<Figure size 640x480 with 1 Axes>"
            ],
            "image/png": "[encoded data removed]"
          },
          "metadata": {}
        },
        {
          "output_type": "display_data",
          "data": {
            "text/plain": [
              "<Figure size 640x480 with 1 Axes>"
            ],
            "image/png": "[encoded data removed]"
          },
          "metadata": {}
        },
        {
          "output_type": "display_data",
          "data": {
            "text/plain": [
              "<Figure size 640x480 with 1 Axes>"
            ],
            "image/png": "[encoded data removed]"
          },
          "metadata": {}
        },
        {
          "output_type": "display_data",
          "data": {
            "text/plain": [
              "<Figure size 640x480 with 1 Axes>"
            ],
            "image/png": "[encoded data removed]"
          },
          "metadata": {}
        },
        {
          "output_type": "display_data",
          "data": {
            "text/plain": [
              "<Figure size 640x480 with 1 Axes>"
            ],
            "image/png": "[encoded data removed]"
          },
          "metadata": {}
        },
        {
          "output_type": "display_data",
          "data": {
            "text/plain": [
              "<Figure size 640x480 with 1 Axes>"
            ],
            "image/png": "[encoded data removed]"
          },
          "metadata": {}
        },
        {
          "output_type": "display_data",
          "data": {
            "text/plain": [
              "<Figure size 640x480 with 1 Axes>"
            ],
            "image/png": "[encoded data removed]"
          },
          "metadata": {}
        },
        {
          "output_type": "display_data",
          "data": {
            "text/plain": [
              "<Figure size 640x480 with 1 Axes>"
            ],
            "image/png": "[encoded data removed]"
          },
          "metadata": {}
        },
        {
          "output_type": "display_data",
          "data": {
            "text/plain": [
              "<Figure size 640x480 with 1 Axes>"
            ],
            "image/png": "[encoded data removed]"
          },
          "metadata": {}
        },
        {
          "output_type": "display_data",
          "data": {
            "text/plain": [
              "<Figure size 640x480 with 1 Axes>"
            ],
            "image/png": "[encoded data removed]"
          },
          "metadata": {}
        }
      ]
    },
    {
      "cell_type": "code",
      "source": [
        "import numpy as np\n",
        "conv1 = np.random.randn(2,1,5,5) * np.sqrt(1. / 5)"
      ],
      "metadata": {
        "id": "5Ds72qOj2QDa"
      },
      "execution_count": 33,
      "outputs": []
    },
    {
      "cell_type": "code",
      "source": [
        "conv1.shape"
      ],
      "metadata": {
        "colab": {
          "base_uri": "https://localhost:8080/"
        },
        "id": "9x9sHJkT2QxQ",
        "outputId": "dd99f08e-327a-48fa-acc4-0a28c1d9b07f"
      },
      "execution_count": 35,
      "outputs": [
        {
          "output_type": "execute_result",
          "data": {
            "text/plain": [
              "(2, 1, 5, 5)"
            ]
          },
          "metadata": {},
          "execution_count": 35
        }
      ]
    },
    {
      "cell_type": "code",
      "source": [
        "def conv_forward(data_array,conv1,stride=1):\n",
        "    stride = 1\n",
        "    filter_h = conv1.shape[2]\n",
        "    filter_w = conv1.shape[3]\n",
        "    new_channels = conv1.shape[0]\n",
        "\n",
        "    # Get resultant Width and Height of Image\n",
        "    result_h = int(((data_array.shape[2]-filter_h)/stride)+1)\n",
        "    result_w = int(((data_array.shape[3]-filter_w)/stride)+1)\n",
        "\n",
        "    # Resultant Matrix of zeros\n",
        "    result_conv1 = np.random.rand(data_array.shape[0],new_channels,result_h,result_w)\n",
        "\n",
        "    for image_position in range(data_array.shape[0]):\n",
        "      image_selected = data_array[image_position,:,:,:]\n",
        "      for filter_position in range(conv1.shape[0]):\n",
        "        filter_selected = conv1[filter_position,:,:,:]\n",
        "        for i in range(0,image_selected.shape[1],stride):\n",
        "          image_rectangle = image_selected[:,i:i+filter_h,:]\n",
        "          if image_rectangle.shape[1]<filter_h:\n",
        "            continue\n",
        "          else:\n",
        "            for j in range(0,image_rectangle.shape[2],stride):\n",
        "                image_portion=image_rectangle[:,:,j:j+filter_w]\n",
        "                if image_portion.shape[2]<filter_w:\n",
        "                    continue\n",
        "                else:\n",
        "                    convolution_result = np.multiply(filter_selected,image_portion)\n",
        "                    result_conv1[image_position,filter_position,i,j] = np.sum(convolution_result)\n",
        "    return result_conv1\n"
      ],
      "metadata": {
        "id": "z_zc-SwV22ba"
      },
      "execution_count": 40,
      "outputs": []
    },
    {
      "cell_type": "code",
      "source": [
        "X = np.array([[1,0,0],[1,2,3],[3,4,5]])\n",
        "X = X.reshape(1,1,3,3)"
      ],
      "metadata": {
        "id": "hL9AEg-39sKs"
      },
      "execution_count": 37,
      "outputs": []
    },
    {
      "cell_type": "code",
      "source": [
        "convex = np.array([[1,0],[0,1]])\n",
        "convex = convex.reshape(1,1,2,2)\n",
        "convex.shape"
      ],
      "metadata": {
        "id": "G3nsjtpM-20P",
        "colab": {
          "base_uri": "https://localhost:8080/"
        },
        "outputId": "3dc0a7e5-82b1-4e21-e71c-1cba7395d88e"
      },
      "execution_count": 49,
      "outputs": [
        {
          "output_type": "execute_result",
          "data": {
            "text/plain": [
              "(1, 1, 2, 2)"
            ]
          },
          "metadata": {},
          "execution_count": 49
        }
      ]
    },
    {
      "cell_type": "code",
      "source": [
        "c = convex.reshape(convex.shape[0],-1)\n",
        "c.shape,c"
      ],
      "metadata": {
        "colab": {
          "base_uri": "https://localhost:8080/"
        },
        "id": "CDMhtfeNJE3-",
        "outputId": "eda7b1d9-ec40-4b9e-f432-ad1adc5c5279"
      },
      "execution_count": 51,
      "outputs": [
        {
          "output_type": "execute_result",
          "data": {
            "text/plain": [
              "((1, 4), array([[1, 0, 0, 1]]))"
            ]
          },
          "metadata": {},
          "execution_count": 51
        }
      ]
    },
    {
      "cell_type": "code",
      "source": [
        "result = conv_forward(X,convex)"
      ],
      "metadata": {
        "id": "udPfHFfC_BlD"
      },
      "execution_count": 41,
      "outputs": []
    },
    {
      "cell_type": "code",
      "source": [
        "result"
      ],
      "metadata": {
        "colab": {
          "base_uri": "https://localhost:8080/"
        },
        "id": "hUzHbOa8_uRE",
        "outputId": "0a0bb71c-9470-4ef7-e59e-decb0c34b565"
      },
      "execution_count": 42,
      "outputs": [
        {
          "output_type": "execute_result",
          "data": {
            "text/plain": [
              "array([[[[3., 3.],\n",
              "         [5., 7.]]]])"
            ]
          },
          "metadata": {},
          "execution_count": 42
        }
      ]
    },
    {
      "cell_type": "code",
      "source": [
        "def im2col(X,conv1, stride, pad):\n",
        "    # Padding\n",
        "    X_padded = np.pad(X, ((0,0), (0,0), (pad, pad), (pad, pad)), mode='constant')\n",
        "    X = X_padded\n",
        "    new_height = int((X.shape[2]-(conv1.shape[2]))/stride)+1\n",
        "    new_width =  int((X.shape[3]-(conv1.shape[3]))/stride)+1\n",
        "    im2col_vector = np.zeros((X.shape[1]*conv1.shape[2]*conv1.shape[3],new_width*new_height*X.shape[0]))\n",
        "    c = 0\n",
        "    for position in range(X.shape[0]):\n",
        "\n",
        "        image_position = X[position,:,:,:]\n",
        "        for height in range(0,image_position.shape[1],stride):\n",
        "            image_rectangle = image_position[:,height:height+conv1.shape[2],:]\n",
        "            if image_rectangle.shape[1]<conv1.shape[2]:\n",
        "                continue\n",
        "            else:\n",
        "                for width in range(0,image_rectangle.shape[2],stride):\n",
        "                    image_square = image_rectangle[:,:,width:width+conv1.shape[3]]\n",
        "                    if image_square.shape[2]<conv1.shape[3]:\n",
        "                        continue\n",
        "                    else:\n",
        "                        im2col_vector[:,c:c+1]=image_square.reshape(-1,1)\n",
        "                        c = c+1\n",
        "\n",
        "    return(im2col_vector,new_height,new_width)\n",
        "X_im2col,result_h,result_w = im2col(X=X,conv1=convex,pad=0,stride=1)\n",
        "conv1_col = convex.reshape(convex.shape[0],-1)\n",
        "X_result = conv1_col@X_im2col\n",
        "X_result = np.array(np.hsplit(X_result, X.shape[0])).reshape((X.shape[0],convex.shape[0],result_h,result_w))\n",
        "print(X_result)"
      ],
      "metadata": {
        "colab": {
          "base_uri": "https://localhost:8080/"
        },
        "id": "GiZc7iNP_wC1",
        "outputId": "cf19acfe-5686-4a0f-cf3b-c3ce435d5a99"
      },
      "execution_count": 44,
      "outputs": [
        {
          "output_type": "stream",
          "name": "stdout",
          "text": [
            "[[[[3. 3.]\n",
            "   [5. 7.]]]]\n"
          ]
        }
      ]
    },
    {
      "cell_type": "code",
      "source": [
        "X_im2col,result_h,result_w = im2col(X=X,conv1=convex,pad=0,stride=1)\n",
        "print(X_im2col),X_im2col.shape"
      ],
      "metadata": {
        "colab": {
          "base_uri": "https://localhost:8080/"
        },
        "id": "K7SqDD5RIHdP",
        "outputId": "45a2f467-d73a-4124-8401-8ffcbecec239"
      },
      "execution_count": 52,
      "outputs": [
        {
          "output_type": "stream",
          "name": "stdout",
          "text": [
            "[[1. 0. 1. 2.]\n",
            " [0. 0. 2. 3.]\n",
            " [1. 2. 3. 4.]\n",
            " [2. 3. 4. 5.]]\n"
          ]
        },
        {
          "output_type": "execute_result",
          "data": {
            "text/plain": [
              "(None, (4, 4))"
            ]
          },
          "metadata": {},
          "execution_count": 52
        }
      ]
    },
    {
      "cell_type": "code",
      "source": [
        "import numpy as np\n",
        "\n",
        "def ReLU(x):\n",
        "    return np.maximum(0, x)"
      ],
      "metadata": {
        "id": "ReB47GgLN6t1"
      },
      "execution_count": null,
      "outputs": []
    },
    {
      "cell_type": "code",
      "source": [
        "def maxpool_multiple(input_image,stride=2):\n",
        "  input_width = input_image.shape[3]\n",
        "  input_height = input_image.shape[2]\n",
        "  filter_width = 2\n",
        "  filter_height = 2\n",
        "\n",
        "  output_width = int((input_width-filter_width)/stride)+1\n",
        "  output_height = int((input_height-filter_height)/stride)+1\n",
        "\n",
        "  output_image = np.zeros((input_image.shape[0],input_image.shape[1],output_height,output_width))\n",
        "  for i in range(output_image.shape[0]):\n",
        "    output_image[i:i+1,:,:,:] = maxpool(input_image[i:i+1,:,:,:],stride=2)\n",
        "  return output_image\n",
        "\n",
        "def maxpool(input_image,stride=2):\n",
        "  input_width = input_image.shape[3]\n",
        "  input_height = input_image.shape[2]\n",
        "  filter_width = 2\n",
        "  filter_height = 2\n",
        "  n_channels = input_image.shape[1]\n",
        "\n",
        "  output_width = int((input_width-filter_width)/stride)+1\n",
        "  output_height = int((input_height-filter_height)/stride)+1\n",
        "\n",
        "  output = np.zeros((n_channels,output_height*output_width))\n",
        "  c=0\n",
        "  for height in range(0,input_height,stride):\n",
        "    if height+filter_height <= input_height:\n",
        "      image_rectangle = input_image[0,:,height:height+filter_height,:]\n",
        "      for width in range(0,input_width,stride):\n",
        "        if width+filter_width <= input_width:\n",
        "          image_square = image_rectangle[:,:,width:width+filter_width]\n",
        "          image_flatten = image_square.reshape(-1,1)\n",
        "          output[:,c:c+1] = np.array([float(i.max().item()) for i in np.split(image_flatten,n_channels)]).reshape(-1,1)\n",
        "          c+=1\n",
        "  final_output = np.array(np.hsplit(output,1)).reshape((1,n_channels,output_height,output_width))\n",
        "  return final_output"
      ],
      "metadata": {
        "id": "a2j9g0dWgdVD"
      },
      "execution_count": 64,
      "outputs": []
    },
    {
      "cell_type": "code",
      "source": [
        "input_image = np.array([[\n",
        "    [[1, 3, 2, 4],\n",
        "     [5, 6, 7, 8],\n",
        "     [9, 10, 11, 12],\n",
        "     [13, 14, 15, 16]],\n",
        "    [[1, 3, 2, 4],\n",
        "     [5, 6, 7, 8],\n",
        "     [9, 10, 11, 12],\n",
        "     [13, 14, 15, 16]]\n",
        "]])\n",
        "output = maxpool_multiple(input_image,stride=2)\n",
        "print(output)"
      ],
      "metadata": {
        "colab": {
          "base_uri": "https://localhost:8080/"
        },
        "id": "noMHlxkSiu3b",
        "outputId": "063e59e6-e394-4da9-8f4e-468c3ad3ca63"
      },
      "execution_count": 65,
      "outputs": [
        {
          "output_type": "stream",
          "name": "stdout",
          "text": [
            "[[[[ 6.  8.]\n",
            "   [14. 16.]]\n",
            "\n",
            "  [[ 6.  8.]\n",
            "   [14. 16.]]]]\n"
          ]
        }
      ]
    },
    {
      "cell_type": "code",
      "source": [
        "def softmax(x):\n",
        "\n",
        "    x_exp = np.exp(x-np.max(x))\n",
        "\n",
        "    return x_exp/np.sum(x_exp,axis=0)"
      ],
      "metadata": {
        "id": "2hZMhkhssikz"
      },
      "execution_count": 53,
      "outputs": []
    },
    {
      "cell_type": "code",
      "source": [
        "# Derivative of loss function with respect to Softmax activation function dW2,dB1\n",
        "delta_2 = (final_fc-y_batch)\n",
        "dw2 = delta_2@fc1.T\n",
        "dB1 = np.sum(delta_2,axis=1,keedims=True)"
      ],
      "metadata": {
        "id": "b1_xdYbzuX6N"
      },
      "execution_count": 8,
      "outputs": []
    },
    {
      "cell_type": "code",
      "source": [
        "# Derivative of loss function with respect to ReLU activation function dW1,dB0\n",
        "delta_1 = np.multiply(W2.T@delta_2,dReLU(W1@X_maxpool_flatten+B0))\n",
        "dW1 = delta_1@X_maxpool_flatten.T\n",
        "dB0 = np.sum(delta_1,axis=1,keepdims=True)"
      ],
      "metadata": {
        "id": "ua73HvS-hGM3"
      },
      "execution_count": 9,
      "outputs": []
    },
    {
      "cell_type": "code",
      "source": [
        "def dReLU(x):\n",
        "  return (x>0)*1.0"
      ],
      "metadata": {
        "id": "wYifiJL1kfv1"
      },
      "execution_count": 4,
      "outputs": []
    },
    {
      "cell_type": "code",
      "source": [
        "# Derivative of loss function with respect to Flattened layer input X0 (dX0)\n",
        "delta_0 = np.multiply(W1.T@delta_1,1.0)"
      ],
      "metadata": {
        "id": "C5HjcF3yk2Xb"
      },
      "execution_count": 6,
      "outputs": []
    },
    {
      "cell_type": "code",
      "source": [
        "# Calculating gradients at Max pooling Layer\n",
        "delta_maxpool = delta_0.reshape(X_maxpool.shape)"
      ],
      "metadata": {
        "id": "5TKQtllqmiY-"
      },
      "execution_count": 10,
      "outputs": []
    },
    {
      "cell_type": "code",
      "source": [
        "# Calculating gradient at Convolutional Layer\n",
        "delta_conv = np.zeros(X_conv.shape)\n",
        "for image in range(len(max_indices)):\n",
        "     indices = max_indices[image]\n",
        "     for p in indices:\n",
        "          delta_conv[image:image+1,p[1],p[2],p[3]] = delta_maxpool[image:image+1,p[5],p[6],p[7]]\n",
        "delta_conv = np.multiply(delta_conv,dReLU(X_conv))"
      ],
      "metadata": {
        "id": "XGrIpysKoxoG"
      },
      "execution_count": null,
      "outputs": []
    },
    {
      "cell_type": "code",
      "source": [
        "# reshape the gradient matrix\n",
        "def error_layer_reshape(error_layer):\n",
        "    test_array = error_layer\n",
        "    test_array_new = np.zeros((test_array.shape[1],test_array.shape[0]*test_array.shape[2]*test_array.shape[3]))\n",
        "    for i in range(test_array_new.shape[0]):\n",
        "        test_array_new[i:i+1,:] = test_array[:,i:i+1,:,:].ravel()\n",
        "    return test_array_new"
      ],
      "metadata": {
        "id": "5YAkteA7J7-k"
      },
      "execution_count": null,
      "outputs": []
    },
    {
      "cell_type": "code",
      "source": [
        "# Calculating gradient of convolutional filter\n",
        "X_batch_im2col = im2col(X=X_batch,conv1=conv1, stride=1, pad=0)\n",
        "delta_conv = np.random.rand(10,2,24,24)\n",
        "delta_conv_reshape = error_layer_reshape(delta_conv)\n",
        "conv1_delta = (delta_conv_reshape@X_batch_im2col.T).reshape(2,1,5,5)"
      ],
      "metadata": {
        "id": "n_-kgo7IJ4Pi"
      },
      "execution_count": null,
      "outputs": []
    }
  ]
}